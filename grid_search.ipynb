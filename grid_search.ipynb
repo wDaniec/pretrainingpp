{
 "cells": [
  {
   "cell_type": "code",
   "execution_count": 6,
   "metadata": {},
   "outputs": [],
   "source": [
    "import neptune\n",
    "import pandas as pd"
   ]
  },
  {
   "cell_type": "code",
   "execution_count": 7,
   "metadata": {},
   "outputs": [
    {
     "name": "stderr",
     "output_type": "stream",
     "text": [
      "WARNING: Instantiating Session without specifying a backend is deprecated and will be removed in future versions. For current behaviour use `neptune.init(...)` or `Session.with_default_backend(...)\n"
     ]
    }
   ],
   "source": [
    "session = neptune.sessions.Session()\n",
    "project = session.get_project('andrzejzdobywca/pretrainingpp')"
   ]
  },
  {
   "cell_type": "code",
   "execution_count": 8,
   "metadata": {},
   "outputs": [],
   "source": [
    "exps_ssl = project.get_experiments(tag='ssl_pretrained')\n",
    "exps_clean = project.get_experiments(tag='clean_pretrained')\n",
    "exps_imagenet_ssl = project.get_experiments(tag='ssl')\n",
    "exps_imagenet_clean = project.get_experiments(tag='clean')"
   ]
  },
  {
   "cell_type": "code",
   "execution_count": 9,
   "metadata": {},
   "outputs": [
    {
     "name": "stdout",
     "output_type": "stream",
     "text": [
      "25\n",
      "25\n",
      "25\n",
      "25\n"
     ]
    }
   ],
   "source": [
    "print(len(exps_ssl))\n",
    "print(len(exps_clean))\n",
    "print(len(exps_imagenet_ssl))\n",
    "print(len(exps_imagenet_clean))"
   ]
  },
  {
   "cell_type": "code",
   "execution_count": 10,
   "metadata": {},
   "outputs": [],
   "source": [
    "def get_best_acc(exps, name):\n",
    "    my_array = []\n",
    "    for exp in exps:\n",
    "        res = exp.get_parameters()\n",
    "        lr = res['lr']\n",
    "        weightDecay = res['weightDecay']\n",
    "\n",
    "        data_ssl = exp.get_numeric_channels_values('val_acc')\n",
    "        best_acc = data_ssl['val_acc'].max()\n",
    "\n",
    "        my_array.append([lr, weightDecay, best_acc])\n",
    "\n",
    "    result = pd.DataFrame(my_array,columns=['lr', 'weightDecay', '{}'.format(name)])\n",
    "    return result"
   ]
  },
  {
   "cell_type": "code",
   "execution_count": 11,
   "metadata": {},
   "outputs": [],
   "source": [
    "res_ssl = get_best_acc(exps_ssl, 'cifar_ssl')\n",
    "res_imagenet_ssl = get_best_acc(exps_imagenet_ssl, 'imagenet_ssl')\n",
    "res_imagenet_clean = get_best_acc(exps_imagenet_clean, 'imagenet_clean')\n",
    "res_clean = get_best_acc(exps_clean, 'cifar_clean')"
   ]
  },
  {
   "cell_type": "code",
   "execution_count": 12,
   "metadata": {},
   "outputs": [
    {
     "name": "stdout",
     "output_type": "stream",
     "text": [
      "         lr  weightDecay  imagenet_ssl\n",
      "0   0.01250     0.001000        0.0572\n",
      "1   0.00250     0.001000        0.2362\n",
      "2   0.00050     0.001000        0.3578\n",
      "3   0.01250     0.000200        0.0584\n",
      "4   0.00250     0.000200        0.3298\n",
      "5   0.00050     0.000200        0.3224\n",
      "6   0.01250     0.000040        0.1438\n",
      "7   0.00250     0.000040        0.3598\n",
      "8   0.00050     0.000040        0.3058\n",
      "9   0.00250     0.000008        0.2780\n",
      "10  0.01250     0.000008        0.2038\n",
      "11  0.00050     0.000008        0.3014\n",
      "12  0.00250     0.000002        0.2714\n",
      "13  0.00050     0.000002        0.2994\n",
      "14  0.01250     0.000002        0.1898\n",
      "15  0.00010     0.001000        0.1938\n",
      "16  0.00010     0.000200        0.1932\n",
      "17  0.00010     0.000040        0.1984\n",
      "18  0.00010     0.000008        0.2008\n",
      "19  0.00010     0.000002        0.1824\n",
      "20  0.00002     0.001000        0.0938\n",
      "21  0.00002     0.000200        0.0988\n",
      "22  0.00002     0.000040        0.0974\n",
      "23  0.00002     0.000008        0.1024\n",
      "24  0.00002     0.000002        0.0824\n",
      "         lr  weightDecay  imagenet_clean\n",
      "0   0.01250     0.001000          0.0366\n",
      "1   0.00250     0.001000          0.2620\n",
      "2   0.00050     0.001000          0.3922\n",
      "3   0.01250     0.000200          0.1448\n",
      "4   0.00250     0.000200          0.3648\n",
      "5   0.00050     0.000200          0.3554\n",
      "6   0.01250     0.000040          0.2100\n",
      "7   0.00250     0.000040          0.3880\n",
      "8   0.00050     0.000040          0.3398\n",
      "9   0.00250     0.000008          0.3912\n",
      "10  0.01250     0.000008          0.2966\n",
      "11  0.00050     0.000008          0.3324\n",
      "12  0.00250     0.000002          0.3808\n",
      "13  0.00050     0.000002          0.3328\n",
      "14  0.01250     0.000002          0.3252\n",
      "15  0.00010     0.001000          0.2102\n",
      "16  0.00010     0.000200          0.1922\n",
      "17  0.00010     0.000040          0.2036\n",
      "18  0.00010     0.000008          0.2002\n",
      "19  0.00010     0.000002          0.2082\n",
      "20  0.00002     0.001000          0.1144\n",
      "21  0.00002     0.000200          0.0930\n",
      "22  0.00002     0.000040          0.0952\n",
      "23  0.00002     0.000008          0.1030\n",
      "24  0.00002     0.000002          0.1082\n"
     ]
    }
   ],
   "source": [
    "print(res_imagenet_ssl)\n",
    "print(res_imagenet_clean)"
   ]
  },
  {
   "cell_type": "code",
   "execution_count": 16,
   "metadata": {},
   "outputs": [
    {
     "name": "stdout",
     "output_type": "stream",
     "text": [
      "         lr  weightDecay  cifar_clean  cifar_ssl  imagenet_clean  imagenet_ssl\n",
      "21  0.00002     0.000200       0.4211     0.4464          0.0930        0.0988\n",
      "23  0.00002     0.000008       0.4230     0.4393          0.1030        0.1024\n",
      "22  0.00002     0.000040       0.4255     0.4192          0.0952        0.0974\n",
      "20  0.00002     0.001000       0.4394     0.4266          0.1144        0.0938\n",
      "24  0.00002     0.000002       0.4408     0.4091          0.1082        0.0824\n",
      "0   0.01250     0.001000       0.4689     0.4207          0.0366        0.0572\n",
      "18  0.00010     0.000008       0.5601     0.5829          0.2002        0.2008\n",
      "17  0.00010     0.000040       0.5679     0.5884          0.2036        0.1984\n",
      "16  0.00010     0.000200       0.5755     0.5719          0.1922        0.1932\n",
      "19  0.00010     0.000002       0.5792     0.5717          0.2082        0.1824\n",
      "15  0.00010     0.001000       0.6077     0.5995          0.2102        0.1938\n",
      "12  0.01250     0.000200       0.6475     0.5750          0.1448        0.0584\n",
      "10  0.00050     0.000002       0.7479     0.7473          0.3328        0.2994\n",
      "8   0.00050     0.000008       0.7558     0.7478          0.3324        0.3014\n",
      "5   0.00050     0.000040       0.7577     0.7621          0.3398        0.3058\n",
      "3   0.01250     0.000040       0.7646     0.7404          0.2100        0.1438\n",
      "14  0.00050     0.000200       0.7662     0.7759          0.3554        0.3224\n",
      "11  0.01250     0.000002       0.7936     0.7518          0.3252        0.1898\n",
      "1   0.00250     0.001000       0.7947     0.7918          0.2620        0.2362\n",
      "4   0.00250     0.000040       0.7972     0.8023          0.3880        0.3598\n",
      "7   0.01250     0.000008       0.7979     0.7721          0.2966        0.2038\n",
      "9   0.00250     0.000002       0.7987     0.7639          0.3808        0.2714\n",
      "2   0.00050     0.001000       0.8072     0.7990          0.3922        0.3578\n",
      "6   0.00250     0.000008       0.8136     0.7762          0.3912        0.2780\n",
      "13  0.00250     0.000200       0.8137     0.8136          0.3648        0.3298\n"
     ]
    }
   ],
   "source": [
    "result = res_clean\n",
    "for df in [res_ssl, res_imagenet_clean, res_imagenet_ssl]:\n",
    "    result = result.merge(df, how='left', on=['lr', 'weightDecay'])\n",
    "result = result.sort_values(by=['cifar_clean', 'cifar_ssl'])\n",
    "print(result)"
   ]
  },
  {
   "cell_type": "code",
   "execution_count": null,
   "metadata": {},
   "outputs": [],
   "source": []
  }
 ],
 "metadata": {
  "kernelspec": {
   "display_name": "env-pretrain",
   "language": "python",
   "name": "env-pretrain"
  },
  "language_info": {
   "codemirror_mode": {
    "name": "ipython",
    "version": 3
   },
   "file_extension": ".py",
   "mimetype": "text/x-python",
   "name": "python",
   "nbconvert_exporter": "python",
   "pygments_lexer": "ipython3",
   "version": "3.8.1"
  },
  "neptune": {
   "notebookId": "e4296131-638c-421f-bc53-1cfc07d2a22f"
  }
 },
 "nbformat": 4,
 "nbformat_minor": 4
}
